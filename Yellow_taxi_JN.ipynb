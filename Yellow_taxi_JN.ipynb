{
 "cells": [
  {
   "cell_type": "markdown",
   "id": "3a425ff4",
   "metadata": {},
   "source": [
    "\n",
    "# Yellow Taxi Trip Records Data Analysis\n",
    "\n",
    "\n"
   ]
  },
  {
   "cell_type": "markdown",
   "id": "ca58a9bd",
   "metadata": {},
   "source": [
    "## Objective of this Jupyter Notebook\n",
    "\n",
    "This document analysis the ... \n",
    "\n",
    "**How is it structured ?**\n",
    "\n",
    "- Broad overview \n",
    "- Data cleaning\n",
    "- Data vizualisation\n",
    "\n"
   ]
  },
  {
   "cell_type": "markdown",
   "id": "1d33275c",
   "metadata": {},
   "source": [
    "\n",
    "## Hands on\n"
   ]
  },
  {
   "cell_type": "code",
   "execution_count": 22,
   "id": "bf776982",
   "metadata": {},
   "outputs": [],
   "source": [
    "import numpy as np\n",
    "import pandas as pd\n",
    "import matplotlib.pyplot as plt\n",
    "\n",
    "%matplotlib inline"
   ]
  },
  {
   "cell_type": "markdown",
   "id": "b17a1a74",
   "metadata": {},
   "source": [
    "_Here we import pandas and numpy library, alongside the pyplot module from matplotlib library. At the end, we matplotlib plots directly in this interface.\n",
    "np , pd , and plt are alias that refers to the libraries or module._"
   ]
  },
  {
   "cell_type": "markdown",
   "id": "a3f54023",
   "metadata": {},
   "source": [
    "## Loading our data"
   ]
  },
  {
   "cell_type": "code",
   "execution_count": 21,
   "id": "0c90c640",
   "metadata": {},
   "outputs": [],
   "source": [
    "file_path = 'C:/Users/deans/Desktop/LYNX_data_analysis/Yellow_Taxi_Assignment.csv/Yellow_Taxi_Assignment.csv'\n",
    "yt = pd.read_csv(file_path)"
   ]
  },
  {
   "cell_type": "markdown",
   "id": "e47fd451",
   "metadata": {},
   "source": [
    "\n",
    "_The code above creates a pandas DataFrame by reading the data from the Excel file specified by 'file_path'. Then we will have a glance about it structure._\n"
   ]
  },
  {
   "cell_type": "markdown",
   "id": "c4e1d398",
   "metadata": {},
   "source": [
    "## The data at a glance"
   ]
  },
  {
   "cell_type": "markdown",
   "id": "56d50710",
   "metadata": {},
   "source": [
    "\n",
    "_The following codes are uses to depicts a general framework of the data we have within the csv file._\n"
   ]
  },
  {
   "cell_type": "code",
   "execution_count": 23,
   "id": "5b242dd0",
   "metadata": {
    "scrolled": false
   },
   "outputs": [
    {
     "data": {
      "text/html": [
       "<div>\n",
       "<style scoped>\n",
       "    .dataframe tbody tr th:only-of-type {\n",
       "        vertical-align: middle;\n",
       "    }\n",
       "\n",
       "    .dataframe tbody tr th {\n",
       "        vertical-align: top;\n",
       "    }\n",
       "\n",
       "    .dataframe thead th {\n",
       "        text-align: right;\n",
       "    }\n",
       "</style>\n",
       "<table border=\"1\" class=\"dataframe\">\n",
       "  <thead>\n",
       "    <tr style=\"text-align: right;\">\n",
       "      <th></th>\n",
       "      <th>VendorID</th>\n",
       "      <th>tpep_pickup_datetime</th>\n",
       "      <th>tpep_dropoff_datetime</th>\n",
       "      <th>passenger_count</th>\n",
       "      <th>trip_distance</th>\n",
       "      <th>RatecodeID</th>\n",
       "      <th>store_and_fwd_flag</th>\n",
       "      <th>PULocationID</th>\n",
       "      <th>DOLocationID</th>\n",
       "      <th>payment_type</th>\n",
       "      <th>fare_amount</th>\n",
       "      <th>extra</th>\n",
       "      <th>mta_tax</th>\n",
       "      <th>tip_amount</th>\n",
       "      <th>tolls_amount</th>\n",
       "      <th>improvement_surcharge</th>\n",
       "      <th>total_amount</th>\n",
       "      <th>congestion_surcharge</th>\n",
       "      <th>airport_fee</th>\n",
       "    </tr>\n",
       "  </thead>\n",
       "  <tbody>\n",
       "    <tr>\n",
       "      <th>0</th>\n",
       "      <td>2</td>\n",
       "      <td>2018-01-01 12:02:01</td>\n",
       "      <td>2018-01-01 12:04:05</td>\n",
       "      <td>1.0</td>\n",
       "      <td>0.53</td>\n",
       "      <td>1.0</td>\n",
       "      <td>N</td>\n",
       "      <td>142</td>\n",
       "      <td>163</td>\n",
       "      <td>1</td>\n",
       "      <td>3.5</td>\n",
       "      <td>0.0</td>\n",
       "      <td>0.5</td>\n",
       "      <td>1.29</td>\n",
       "      <td>0.0</td>\n",
       "      <td>0.3</td>\n",
       "      <td>5.59</td>\n",
       "      <td>NaN</td>\n",
       "      <td>NaN</td>\n",
       "    </tr>\n",
       "    <tr>\n",
       "      <th>1</th>\n",
       "      <td>2</td>\n",
       "      <td>2018-01-01 12:26:48</td>\n",
       "      <td>2018-01-01 12:31:29</td>\n",
       "      <td>1.0</td>\n",
       "      <td>1.05</td>\n",
       "      <td>1.0</td>\n",
       "      <td>N</td>\n",
       "      <td>140</td>\n",
       "      <td>236</td>\n",
       "      <td>1</td>\n",
       "      <td>6.0</td>\n",
       "      <td>0.0</td>\n",
       "      <td>0.5</td>\n",
       "      <td>1.02</td>\n",
       "      <td>0.0</td>\n",
       "      <td>0.3</td>\n",
       "      <td>7.82</td>\n",
       "      <td>NaN</td>\n",
       "      <td>NaN</td>\n",
       "    </tr>\n",
       "    <tr>\n",
       "      <th>2</th>\n",
       "      <td>2</td>\n",
       "      <td>2018-01-01 01:28:34</td>\n",
       "      <td>2018-01-01 01:39:38</td>\n",
       "      <td>4.0</td>\n",
       "      <td>1.83</td>\n",
       "      <td>1.0</td>\n",
       "      <td>N</td>\n",
       "      <td>211</td>\n",
       "      <td>158</td>\n",
       "      <td>1</td>\n",
       "      <td>9.5</td>\n",
       "      <td>0.5</td>\n",
       "      <td>0.5</td>\n",
       "      <td>1.62</td>\n",
       "      <td>0.0</td>\n",
       "      <td>0.3</td>\n",
       "      <td>12.42</td>\n",
       "      <td>NaN</td>\n",
       "      <td>NaN</td>\n",
       "    </tr>\n",
       "    <tr>\n",
       "      <th>3</th>\n",
       "      <td>1</td>\n",
       "      <td>2018-01-01 08:51:59</td>\n",
       "      <td>2018-01-01 09:01:45</td>\n",
       "      <td>1.0</td>\n",
       "      <td>2.30</td>\n",
       "      <td>1.0</td>\n",
       "      <td>N</td>\n",
       "      <td>249</td>\n",
       "      <td>4</td>\n",
       "      <td>2</td>\n",
       "      <td>10.0</td>\n",
       "      <td>0.0</td>\n",
       "      <td>0.5</td>\n",
       "      <td>0.00</td>\n",
       "      <td>0.0</td>\n",
       "      <td>0.3</td>\n",
       "      <td>10.80</td>\n",
       "      <td>NaN</td>\n",
       "      <td>NaN</td>\n",
       "    </tr>\n",
       "    <tr>\n",
       "      <th>4</th>\n",
       "      <td>2</td>\n",
       "      <td>2018-01-01 01:00:19</td>\n",
       "      <td>2018-01-01 01:14:16</td>\n",
       "      <td>1.0</td>\n",
       "      <td>3.06</td>\n",
       "      <td>1.0</td>\n",
       "      <td>N</td>\n",
       "      <td>186</td>\n",
       "      <td>142</td>\n",
       "      <td>1</td>\n",
       "      <td>12.5</td>\n",
       "      <td>0.5</td>\n",
       "      <td>0.5</td>\n",
       "      <td>1.00</td>\n",
       "      <td>0.0</td>\n",
       "      <td>0.3</td>\n",
       "      <td>14.80</td>\n",
       "      <td>NaN</td>\n",
       "      <td>NaN</td>\n",
       "    </tr>\n",
       "  </tbody>\n",
       "</table>\n",
       "</div>"
      ],
      "text/plain": [
       "   VendorID tpep_pickup_datetime tpep_dropoff_datetime  passenger_count  \\\n",
       "0         2  2018-01-01 12:02:01   2018-01-01 12:04:05              1.0   \n",
       "1         2  2018-01-01 12:26:48   2018-01-01 12:31:29              1.0   \n",
       "2         2  2018-01-01 01:28:34   2018-01-01 01:39:38              4.0   \n",
       "3         1  2018-01-01 08:51:59   2018-01-01 09:01:45              1.0   \n",
       "4         2  2018-01-01 01:00:19   2018-01-01 01:14:16              1.0   \n",
       "\n",
       "   trip_distance  RatecodeID store_and_fwd_flag  PULocationID  DOLocationID  \\\n",
       "0           0.53         1.0                  N           142           163   \n",
       "1           1.05         1.0                  N           140           236   \n",
       "2           1.83         1.0                  N           211           158   \n",
       "3           2.30         1.0                  N           249             4   \n",
       "4           3.06         1.0                  N           186           142   \n",
       "\n",
       "   payment_type  fare_amount  extra  mta_tax  tip_amount  tolls_amount  \\\n",
       "0             1          3.5    0.0      0.5        1.29           0.0   \n",
       "1             1          6.0    0.0      0.5        1.02           0.0   \n",
       "2             1          9.5    0.5      0.5        1.62           0.0   \n",
       "3             2         10.0    0.0      0.5        0.00           0.0   \n",
       "4             1         12.5    0.5      0.5        1.00           0.0   \n",
       "\n",
       "   improvement_surcharge  total_amount  congestion_surcharge  airport_fee  \n",
       "0                    0.3          5.59                   NaN          NaN  \n",
       "1                    0.3          7.82                   NaN          NaN  \n",
       "2                    0.3         12.42                   NaN          NaN  \n",
       "3                    0.3         10.80                   NaN          NaN  \n",
       "4                    0.3         14.80                   NaN          NaN  "
      ]
     },
     "execution_count": 23,
     "metadata": {},
     "output_type": "execute_result"
    }
   ],
   "source": [
    "yt.head()"
   ]
  },
  {
   "cell_type": "markdown",
   "id": "d7f968ca",
   "metadata": {},
   "source": [
    "_This is to get an idea about the categories of the information within the file. It also helps check the correspondance with the data library._"
   ]
  },
  {
   "cell_type": "code",
   "execution_count": 50,
   "id": "4b62d1d5",
   "metadata": {},
   "outputs": [
    {
     "data": {
      "text/plain": [
       "(304978, 21)"
      ]
     },
     "execution_count": 50,
     "metadata": {},
     "output_type": "execute_result"
    }
   ],
   "source": [
    "yt.shape"
   ]
  },
  {
   "cell_type": "markdown",
   "id": "bbb09478",
   "metadata": {},
   "source": [
    "_the data holds 304.978 inputs (row) and 19 categories (column)._\n"
   ]
  },
  {
   "cell_type": "code",
   "execution_count": 25,
   "id": "0fcdc7a8",
   "metadata": {},
   "outputs": [
    {
     "name": "stdout",
     "output_type": "stream",
     "text": [
      "<class 'pandas.core.frame.DataFrame'>\n",
      "RangeIndex: 304978 entries, 0 to 304977\n",
      "Data columns (total 19 columns):\n",
      " #   Column                 Non-Null Count   Dtype  \n",
      "---  ------                 --------------   -----  \n",
      " 0   VendorID               304978 non-null  int64  \n",
      " 1   tpep_pickup_datetime   304978 non-null  object \n",
      " 2   tpep_dropoff_datetime  304978 non-null  object \n",
      " 3   passenger_count        295465 non-null  float64\n",
      " 4   trip_distance          304978 non-null  float64\n",
      " 5   RatecodeID             295465 non-null  float64\n",
      " 6   store_and_fwd_flag     295465 non-null  object \n",
      " 7   PULocationID           304978 non-null  int64  \n",
      " 8   DOLocationID           304978 non-null  int64  \n",
      " 9   payment_type           304978 non-null  int64  \n",
      " 10  fare_amount            304978 non-null  float64\n",
      " 11  extra                  304978 non-null  float64\n",
      " 12  mta_tax                304978 non-null  float64\n",
      " 13  tip_amount             304978 non-null  float64\n",
      " 14  tolls_amount           304978 non-null  float64\n",
      " 15  improvement_surcharge  304978 non-null  float64\n",
      " 16  total_amount           304978 non-null  float64\n",
      " 17  congestion_surcharge   232346 non-null  float64\n",
      " 18  airport_fee            106217 non-null  float64\n",
      "dtypes: float64(12), int64(4), object(3)\n",
      "memory usage: 44.2+ MB\n"
     ]
    }
   ],
   "source": [
    "yt.info()"
   ]
  },
  {
   "cell_type": "code",
   "execution_count": 26,
   "id": "7d91df31",
   "metadata": {
    "scrolled": false
   },
   "outputs": [
    {
     "data": {
      "text/html": [
       "<div>\n",
       "<style scoped>\n",
       "    .dataframe tbody tr th:only-of-type {\n",
       "        vertical-align: middle;\n",
       "    }\n",
       "\n",
       "    .dataframe tbody tr th {\n",
       "        vertical-align: top;\n",
       "    }\n",
       "\n",
       "    .dataframe thead th {\n",
       "        text-align: right;\n",
       "    }\n",
       "</style>\n",
       "<table border=\"1\" class=\"dataframe\">\n",
       "  <thead>\n",
       "    <tr style=\"text-align: right;\">\n",
       "      <th></th>\n",
       "      <th>VendorID</th>\n",
       "      <th>passenger_count</th>\n",
       "      <th>trip_distance</th>\n",
       "      <th>RatecodeID</th>\n",
       "      <th>PULocationID</th>\n",
       "      <th>DOLocationID</th>\n",
       "      <th>payment_type</th>\n",
       "      <th>fare_amount</th>\n",
       "      <th>extra</th>\n",
       "      <th>mta_tax</th>\n",
       "      <th>tip_amount</th>\n",
       "      <th>tolls_amount</th>\n",
       "      <th>improvement_surcharge</th>\n",
       "      <th>total_amount</th>\n",
       "      <th>congestion_surcharge</th>\n",
       "      <th>airport_fee</th>\n",
       "    </tr>\n",
       "  </thead>\n",
       "  <tbody>\n",
       "    <tr>\n",
       "      <th>count</th>\n",
       "      <td>304978.000000</td>\n",
       "      <td>295465.000000</td>\n",
       "      <td>304978.000000</td>\n",
       "      <td>295465.000000</td>\n",
       "      <td>304978.000000</td>\n",
       "      <td>304978.000000</td>\n",
       "      <td>304978.000000</td>\n",
       "      <td>304978.000000</td>\n",
       "      <td>304978.000000</td>\n",
       "      <td>304978.000000</td>\n",
       "      <td>304978.000000</td>\n",
       "      <td>304978.000000</td>\n",
       "      <td>304978.000000</td>\n",
       "      <td>304978.000000</td>\n",
       "      <td>232346.000000</td>\n",
       "      <td>106217.000000</td>\n",
       "    </tr>\n",
       "    <tr>\n",
       "      <th>mean</th>\n",
       "      <td>1.672786</td>\n",
       "      <td>1.479126</td>\n",
       "      <td>4.587589</td>\n",
       "      <td>1.142931</td>\n",
       "      <td>163.744975</td>\n",
       "      <td>160.988898</td>\n",
       "      <td>1.240463</td>\n",
       "      <td>13.510189</td>\n",
       "      <td>0.903506</td>\n",
       "      <td>0.492755</td>\n",
       "      <td>2.224064</td>\n",
       "      <td>0.390715</td>\n",
       "      <td>0.312725</td>\n",
       "      <td>19.050501</td>\n",
       "      <td>2.241650</td>\n",
       "      <td>0.085815</td>\n",
       "    </tr>\n",
       "    <tr>\n",
       "      <th>std</th>\n",
       "      <td>0.514069</td>\n",
       "      <td>1.108255</td>\n",
       "      <td>434.226624</td>\n",
       "      <td>2.969941</td>\n",
       "      <td>66.570490</td>\n",
       "      <td>70.975905</td>\n",
       "      <td>0.528257</td>\n",
       "      <td>12.636651</td>\n",
       "      <td>1.185321</td>\n",
       "      <td>0.074023</td>\n",
       "      <td>2.765200</td>\n",
       "      <td>1.699547</td>\n",
       "      <td>0.110404</td>\n",
       "      <td>15.464014</td>\n",
       "      <td>0.791877</td>\n",
       "      <td>0.318628</td>\n",
       "    </tr>\n",
       "    <tr>\n",
       "      <th>min</th>\n",
       "      <td>1.000000</td>\n",
       "      <td>0.000000</td>\n",
       "      <td>-16.860000</td>\n",
       "      <td>1.000000</td>\n",
       "      <td>1.000000</td>\n",
       "      <td>1.000000</td>\n",
       "      <td>0.000000</td>\n",
       "      <td>-197.000000</td>\n",
       "      <td>-6.000000</td>\n",
       "      <td>-0.500000</td>\n",
       "      <td>-20.000000</td>\n",
       "      <td>-13.750000</td>\n",
       "      <td>-1.000000</td>\n",
       "      <td>-198.550000</td>\n",
       "      <td>-2.500000</td>\n",
       "      <td>-1.250000</td>\n",
       "    </tr>\n",
       "    <tr>\n",
       "      <th>25%</th>\n",
       "      <td>1.000000</td>\n",
       "      <td>1.000000</td>\n",
       "      <td>1.000000</td>\n",
       "      <td>1.000000</td>\n",
       "      <td>121.000000</td>\n",
       "      <td>107.000000</td>\n",
       "      <td>1.000000</td>\n",
       "      <td>6.500000</td>\n",
       "      <td>0.000000</td>\n",
       "      <td>0.500000</td>\n",
       "      <td>0.000000</td>\n",
       "      <td>0.000000</td>\n",
       "      <td>0.300000</td>\n",
       "      <td>10.800000</td>\n",
       "      <td>2.500000</td>\n",
       "      <td>0.000000</td>\n",
       "    </tr>\n",
       "    <tr>\n",
       "      <th>50%</th>\n",
       "      <td>2.000000</td>\n",
       "      <td>1.000000</td>\n",
       "      <td>1.730000</td>\n",
       "      <td>1.000000</td>\n",
       "      <td>162.000000</td>\n",
       "      <td>162.000000</td>\n",
       "      <td>1.000000</td>\n",
       "      <td>9.500000</td>\n",
       "      <td>0.500000</td>\n",
       "      <td>0.500000</td>\n",
       "      <td>1.860000</td>\n",
       "      <td>0.000000</td>\n",
       "      <td>0.300000</td>\n",
       "      <td>14.300000</td>\n",
       "      <td>2.500000</td>\n",
       "      <td>0.000000</td>\n",
       "    </tr>\n",
       "    <tr>\n",
       "      <th>75%</th>\n",
       "      <td>2.000000</td>\n",
       "      <td>2.000000</td>\n",
       "      <td>3.210000</td>\n",
       "      <td>1.000000</td>\n",
       "      <td>234.000000</td>\n",
       "      <td>234.000000</td>\n",
       "      <td>2.000000</td>\n",
       "      <td>15.000000</td>\n",
       "      <td>1.000000</td>\n",
       "      <td>0.500000</td>\n",
       "      <td>2.950000</td>\n",
       "      <td>0.000000</td>\n",
       "      <td>0.300000</td>\n",
       "      <td>20.760000</td>\n",
       "      <td>2.500000</td>\n",
       "      <td>0.000000</td>\n",
       "    </tr>\n",
       "    <tr>\n",
       "      <th>max</th>\n",
       "      <td>6.000000</td>\n",
       "      <td>6.000000</td>\n",
       "      <td>177247.400000</td>\n",
       "      <td>99.000000</td>\n",
       "      <td>265.000000</td>\n",
       "      <td>265.000000</td>\n",
       "      <td>5.000000</td>\n",
       "      <td>455.000000</td>\n",
       "      <td>18.500000</td>\n",
       "      <td>2.540000</td>\n",
       "      <td>115.560000</td>\n",
       "      <td>96.550000</td>\n",
       "      <td>1.000000</td>\n",
       "      <td>561.490000</td>\n",
       "      <td>2.750000</td>\n",
       "      <td>1.250000</td>\n",
       "    </tr>\n",
       "  </tbody>\n",
       "</table>\n",
       "</div>"
      ],
      "text/plain": [
       "            VendorID  passenger_count  trip_distance     RatecodeID  \\\n",
       "count  304978.000000    295465.000000  304978.000000  295465.000000   \n",
       "mean        1.672786         1.479126       4.587589       1.142931   \n",
       "std         0.514069         1.108255     434.226624       2.969941   \n",
       "min         1.000000         0.000000     -16.860000       1.000000   \n",
       "25%         1.000000         1.000000       1.000000       1.000000   \n",
       "50%         2.000000         1.000000       1.730000       1.000000   \n",
       "75%         2.000000         2.000000       3.210000       1.000000   \n",
       "max         6.000000         6.000000  177247.400000      99.000000   \n",
       "\n",
       "        PULocationID   DOLocationID   payment_type    fare_amount  \\\n",
       "count  304978.000000  304978.000000  304978.000000  304978.000000   \n",
       "mean      163.744975     160.988898       1.240463      13.510189   \n",
       "std        66.570490      70.975905       0.528257      12.636651   \n",
       "min         1.000000       1.000000       0.000000    -197.000000   \n",
       "25%       121.000000     107.000000       1.000000       6.500000   \n",
       "50%       162.000000     162.000000       1.000000       9.500000   \n",
       "75%       234.000000     234.000000       2.000000      15.000000   \n",
       "max       265.000000     265.000000       5.000000     455.000000   \n",
       "\n",
       "               extra        mta_tax     tip_amount   tolls_amount  \\\n",
       "count  304978.000000  304978.000000  304978.000000  304978.000000   \n",
       "mean        0.903506       0.492755       2.224064       0.390715   \n",
       "std         1.185321       0.074023       2.765200       1.699547   \n",
       "min        -6.000000      -0.500000     -20.000000     -13.750000   \n",
       "25%         0.000000       0.500000       0.000000       0.000000   \n",
       "50%         0.500000       0.500000       1.860000       0.000000   \n",
       "75%         1.000000       0.500000       2.950000       0.000000   \n",
       "max        18.500000       2.540000     115.560000      96.550000   \n",
       "\n",
       "       improvement_surcharge   total_amount  congestion_surcharge  \\\n",
       "count          304978.000000  304978.000000         232346.000000   \n",
       "mean                0.312725      19.050501              2.241650   \n",
       "std                 0.110404      15.464014              0.791877   \n",
       "min                -1.000000    -198.550000             -2.500000   \n",
       "25%                 0.300000      10.800000              2.500000   \n",
       "50%                 0.300000      14.300000              2.500000   \n",
       "75%                 0.300000      20.760000              2.500000   \n",
       "max                 1.000000     561.490000              2.750000   \n",
       "\n",
       "         airport_fee  \n",
       "count  106217.000000  \n",
       "mean        0.085815  \n",
       "std         0.318628  \n",
       "min        -1.250000  \n",
       "25%         0.000000  \n",
       "50%         0.000000  \n",
       "75%         0.000000  \n",
       "max         1.250000  "
      ]
     },
     "execution_count": 26,
     "metadata": {},
     "output_type": "execute_result"
    }
   ],
   "source": [
    "yt.describe()"
   ]
  },
  {
   "cell_type": "markdown",
   "id": "79e0e6c8",
   "metadata": {},
   "source": [
    "### _Summary of data at glance_\n",
    "\n",
    "we "
   ]
  },
  {
   "cell_type": "markdown",
   "id": "993e7a94",
   "metadata": {},
   "source": [
    "## Data cleaning"
   ]
  },
  {
   "cell_type": "markdown",
   "id": "1819babf",
   "metadata": {},
   "source": [
    "A 4-step : \n",
    "- We wil start by seeking and finding missing data \n",
    "- correct missing data if exist\n",
    "- seek error (such as difference between the data library preset categories and actual values)\n",
    "- seek duplications\n",
    "\n",
    "_numpy use NAN to identify a missing value"
   ]
  },
  {
   "cell_type": "code",
   "execution_count": null,
   "id": "19a29555",
   "metadata": {},
   "outputs": [],
   "source": []
  },
  {
   "cell_type": "code",
   "execution_count": 61,
   "id": "61cd54d9",
   "metadata": {},
   "outputs": [
    {
     "data": {
      "text/plain": [
       "VendorID                      0\n",
       "tpep_pickup_datetime          0\n",
       "tpep_dropoff_datetime         0\n",
       "passenger_count            9513\n",
       "trip_distance                 0\n",
       "RatecodeID                 9513\n",
       "store_and_fwd_flag         9513\n",
       "PULocationID                  0\n",
       "DOLocationID                  0\n",
       "payment_type                  0\n",
       "fare_amount                   0\n",
       "extra                         0\n",
       "mta_tax                       0\n",
       "tip_amount                    0\n",
       "tolls_amount                  0\n",
       "improvement_surcharge         0\n",
       "total_amount                  0\n",
       "congestion_surcharge      72632\n",
       "airport_fee              198761\n",
       "trip_duration                 0\n",
       "trip_route                    0\n",
       "dtype: int64"
      ]
     },
     "metadata": {},
     "output_type": "display_data"
    }
   ],
   "source": [
    "missing_valu = yt.isnull().sum()\n",
    "display(missing_valu)"
   ]
  },
  {
   "cell_type": "code",
   "execution_count": null,
   "id": "cce542c8",
   "metadata": {},
   "outputs": [],
   "source": []
  },
  {
   "cell_type": "code",
   "execution_count": 64,
   "id": "a82ec00b",
   "metadata": {
    "scrolled": true
   },
   "outputs": [
    {
     "name": "stdout",
     "output_type": "stream",
     "text": [
      "Seeking missing value\n"
     ]
    }
   ],
   "source": [
    "missing_value = yt[yt.isnull().any(axis=1)]\n",
    "print('Seeking missing value')\n",
    "#display(missing_value)"
   ]
  },
  {
   "cell_type": "code",
   "execution_count": null,
   "id": "ba2a2794",
   "metadata": {},
   "outputs": [],
   "source": []
  },
  {
   "cell_type": "code",
   "execution_count": null,
   "id": "6fedaecc",
   "metadata": {},
   "outputs": [],
   "source": []
  },
  {
   "cell_type": "markdown",
   "id": "ffda802e",
   "metadata": {},
   "source": [
    "### Data cleaning summary and  insight\n",
    "\n",
    "We "
   ]
  },
  {
   "cell_type": "markdown",
   "id": "1fcf75a8",
   "metadata": {},
   "source": [
    "\n",
    "## Creating new variables\n"
   ]
  },
  {
   "cell_type": "markdown",
   "id": "b2561527",
   "metadata": {},
   "source": [
    "For the purpose of our analysis we will create a set of new variables that :\n",
    "- **trip_duration** which is a difference between the pick up time an dropoff time\n",
    "- **trip_route** which the label A - B of a trip\n",
    "- **trip_additional_charge** a difference between total amount charged and fare-amount\n",
    "\n"
   ]
  },
  {
   "cell_type": "code",
   "execution_count": 27,
   "id": "45de9329",
   "metadata": {},
   "outputs": [],
   "source": [
    "yt['tpep_dropoff_datetime'] = pd.to_datetime(yt['tpep_dropoff_datetime'])\n",
    "yt['tpep_pickup_datetime'] = pd.to_datetime(yt['tpep_pickup_datetime'])\n",
    "yt['trip_duration'] = yt['tpep_dropoff_datetime'] - yt['tpep_pickup_datetime']"
   ]
  },
  {
   "cell_type": "markdown",
   "id": "bca77261",
   "metadata": {},
   "source": [
    "_The codes above, first, change the data type of the dropoff and pickup variables from string to actual datetime object so that we could perform the the calculation of the trip duration_\n"
   ]
  },
  {
   "cell_type": "code",
   "execution_count": 53,
   "id": "1f25cf84",
   "metadata": {},
   "outputs": [],
   "source": [
    "yt['trip_route'] = yt.apply(lambda row: f\"{row['PULocationID']}-{row['DOLocationID']}\", axis=1)\n"
   ]
  },
  {
   "cell_type": "code",
   "execution_count": null,
   "id": "9f95eadd",
   "metadata": {},
   "outputs": [],
   "source": []
  },
  {
   "cell_type": "code",
   "execution_count": 62,
   "id": "1c01d207",
   "metadata": {},
   "outputs": [],
   "source": [
    "yt['trip_additional_charge'] = yt['total_amount'] - yt['fare_amount']"
   ]
  },
  {
   "cell_type": "code",
   "execution_count": null,
   "id": "ae2fc534",
   "metadata": {},
   "outputs": [],
   "source": []
  },
  {
   "cell_type": "markdown",
   "id": "7976848f",
   "metadata": {},
   "source": [
    "## Numerical Analysis and Visualization"
   ]
  },
  {
   "cell_type": "code",
   "execution_count": null,
   "id": "76374007",
   "metadata": {},
   "outputs": [],
   "source": []
  },
  {
   "cell_type": "code",
   "execution_count": null,
   "id": "d7d2f5f6",
   "metadata": {},
   "outputs": [],
   "source": []
  },
  {
   "cell_type": "code",
   "execution_count": 31,
   "id": "5dab76f1",
   "metadata": {
    "scrolled": true
   },
   "outputs": [
    {
     "data": {
      "text/plain": [
       "2    201068\n",
       "1    102886\n",
       "6       521\n",
       "4       500\n",
       "5         3\n",
       "Name: VendorID, dtype: int64"
      ]
     },
     "execution_count": 31,
     "metadata": {},
     "output_type": "execute_result"
    }
   ],
   "source": [
    "yt['VendorID'].value_counts()"
   ]
  },
  {
   "cell_type": "code",
   "execution_count": null,
   "id": "829d00de",
   "metadata": {},
   "outputs": [],
   "source": []
  },
  {
   "cell_type": "code",
   "execution_count": null,
   "id": "b36a4627",
   "metadata": {},
   "outputs": [],
   "source": []
  },
  {
   "cell_type": "markdown",
   "id": "24313e8e",
   "metadata": {},
   "source": [
    "**_According to info within the library only 2 types of VendorID are registered. Whereas within the files there a 6, 4, 5 as well_** "
   ]
  },
  {
   "cell_type": "code",
   "execution_count": 30,
   "id": "e64d9811",
   "metadata": {},
   "outputs": [
    {
     "data": {
      "text/plain": [
       "N    292425\n",
       "Y      3040\n",
       "Name: store_and_fwd_flag, dtype: int64"
      ]
     },
     "execution_count": 30,
     "metadata": {},
     "output_type": "execute_result"
    }
   ],
   "source": [
    "yt['store_and_fwd_flag'].value_counts()"
   ]
  },
  {
   "cell_type": "code",
   "execution_count": null,
   "id": "23308465",
   "metadata": {},
   "outputs": [],
   "source": []
  },
  {
   "cell_type": "code",
   "execution_count": 47,
   "id": "4c94c714",
   "metadata": {},
   "outputs": [
    {
     "data": {
      "text/plain": [
       "237-236    2069\n",
       "264-264    1939\n",
       "236-237    1673\n",
       "236-236    1525\n",
       "237-237    1422\n",
       "           ... \n",
       "159-147       1\n",
       "189-226       1\n",
       "75-131        1\n",
       "74-28         1\n",
       "48-47         1\n",
       "Name: trip_route, Length: 13913, dtype: int64"
      ]
     },
     "execution_count": 47,
     "metadata": {},
     "output_type": "execute_result"
    }
   ],
   "source": [
    "yt['trip_route'].value_counts()"
   ]
  },
  {
   "cell_type": "code",
   "execution_count": null,
   "id": "e5d4ced0",
   "metadata": {},
   "outputs": [],
   "source": []
  },
  {
   "cell_type": "code",
   "execution_count": 63,
   "id": "7294cc9c",
   "metadata": {
    "scrolled": true
   },
   "outputs": [
    {
     "data": {
      "image/png": "[encoded data removed]",
      "text/plain": [
       "<Figure size 1600x800 with 1 Axes>"
      ]
     },
     "metadata": {},
     "output_type": "display_data"
    }
   ],
   "source": [
    "plt.figure(figsize=(16, 8))\n",
    "plt.scatter(range(len(yt)), yt['trip_additional_charge'], color='blue')\n",
    "plt.xlabel('Data points')\n",
    "plt.ylabel('Trip adds')\n",
    "plt.show()"
   ]
  },
  {
   "cell_type": "code",
   "execution_count": 29,
   "id": "6198e72d",
   "metadata": {
    "scrolled": true
   },
   "outputs": [
    {
     "data": {
      "text/plain": [
       "1    216662\n",
       "2     75899\n",
       "0      9513\n",
       "3      1763\n",
       "4      1140\n",
       "5         1\n",
       "Name: payment_type, dtype: int64"
      ]
     },
     "execution_count": 29,
     "metadata": {},
     "output_type": "execute_result"
    }
   ],
   "source": [
    "yt['payment_type'].value_counts()"
   ]
  },
  {
   "cell_type": "markdown",
   "id": "8cbe0fb0",
   "metadata": {},
   "source": [
    "**_According to info within the library only 6 types of VendorID are registered. The number 0 here have no meaning_** "
   ]
  },
  {
   "cell_type": "code",
   "execution_count": 28,
   "id": "1d6f4a83",
   "metadata": {},
   "outputs": [
    {
     "data": {
      "text/plain": [
       " 0.50    301643\n",
       " 0.00      2196\n",
       "-0.50      1122\n",
       " 0.80         7\n",
       " 2.54         3\n",
       " 0.85         1\n",
       "-0.07         1\n",
       " 0.32         1\n",
       " 0.55         1\n",
       " 1.50         1\n",
       " 1.60         1\n",
       " 1.05         1\n",
       "Name: mta_tax, dtype: int64"
      ]
     },
     "execution_count": 28,
     "metadata": {},
     "output_type": "execute_result"
    }
   ],
   "source": [
    "yt['mta_tax'].value_counts()"
   ]
  },
  {
   "cell_type": "code",
   "execution_count": null,
   "id": "cbd1cded",
   "metadata": {},
   "outputs": [],
   "source": []
  },
  {
   "cell_type": "code",
   "execution_count": null,
   "id": "5008a89b",
   "metadata": {},
   "outputs": [],
   "source": [
    "\n"
   ]
  },
  {
   "cell_type": "code",
   "execution_count": null,
   "id": "2c7df4ea",
   "metadata": {},
   "outputs": [],
   "source": []
  },
  {
   "cell_type": "code",
   "execution_count": null,
   "id": "0a95dc54",
   "metadata": {},
   "outputs": [],
   "source": []
  },
  {
   "cell_type": "code",
   "execution_count": null,
   "id": "f7a08ee7",
   "metadata": {},
   "outputs": [],
   "source": []
  },
  {
   "cell_type": "code",
   "execution_count": null,
   "id": "b94b65bd",
   "metadata": {},
   "outputs": [],
   "source": []
  },
  {
   "cell_type": "code",
   "execution_count": null,
   "id": "9e180bc8",
   "metadata": {},
   "outputs": [],
   "source": []
  },
  {
   "cell_type": "code",
   "execution_count": 39,
   "id": "5cf1d7cf",
   "metadata": {},
   "outputs": [
    {
     "data": {
      "image/png": "[encoded data removed]",
      "text/plain": [
       "<Figure size 1600x800 with 1 Axes>"
      ]
     },
     "metadata": {},
     "output_type": "display_data"
    }
   ],
   "source": [
    "plt.figure(figsize=(16, 8))\n",
    "plt.scatter(range(len(yt)), yt['trip_duration'], color='blue')\n",
    "plt.xlabel('Data points')\n",
    "plt.ylabel('Trip duration')\n",
    "plt.show()"
   ]
  },
  {
   "cell_type": "code",
   "execution_count": null,
   "id": "22b5a629",
   "metadata": {},
   "outputs": [],
   "source": []
  },
  {
   "cell_type": "code",
   "execution_count": null,
   "id": "fae1ff0d",
   "metadata": {},
   "outputs": [],
   "source": []
  },
  {
   "cell_type": "code",
   "execution_count": 40,
   "id": "6f12e84b",
   "metadata": {
    "scrolled": true
   },
   "outputs": [
    {
     "data": {
      "text/plain": [
       "<Axes: ylabel='VendorID'>"
      ]
     },
     "execution_count": 40,
     "metadata": {},
     "output_type": "execute_result"
    },
    {
     "data": {
      "image/png": "[encoded data removed]",
      "text/plain": [
       "<Figure size 600x600 with 1 Axes>"
      ]
     },
     "metadata": {},
     "output_type": "display_data"
    }
   ],
   "source": [
    "yt['VendorID'].value_counts().plot(kind='pie', figsize=(6,6)) \n"
   ]
  },
  {
   "cell_type": "code",
   "execution_count": null,
   "id": "c7429009",
   "metadata": {},
   "outputs": [],
   "source": []
  },
  {
   "cell_type": "markdown",
   "id": "f909b758",
   "metadata": {},
   "source": [
    "## Categorical Analysis and visualization"
   ]
  },
  {
   "cell_type": "code",
   "execution_count": null,
   "id": "16abcb0b",
   "metadata": {},
   "outputs": [],
   "source": []
  },
  {
   "cell_type": "markdown",
   "id": "02d5b156",
   "metadata": {},
   "source": [
    "## Relationship between column"
   ]
  },
  {
   "cell_type": "code",
   "execution_count": null,
   "id": "77d74ee2",
   "metadata": {},
   "outputs": [],
   "source": []
  },
  {
   "cell_type": "markdown",
   "id": "a1cb0591",
   "metadata": {},
   "source": [
    "## Column Wrangling"
   ]
  },
  {
   "cell_type": "code",
   "execution_count": null,
   "id": "9d7ef7cb",
   "metadata": {},
   "outputs": [],
   "source": []
  },
  {
   "cell_type": "markdown",
   "id": "ac20cd27",
   "metadata": {},
   "source": [
    "## Segmentation and indexing"
   ]
  },
  {
   "cell_type": "code",
   "execution_count": null,
   "id": "67b49aa0",
   "metadata": {},
   "outputs": [],
   "source": []
  }
 ],
 "metadata": {
  "kernelspec": {
   "display_name": "Python 3 (ipykernel)",
   "language": "python",
   "name": "python3"
  },
  "language_info": {
   "codemirror_mode": {
    "name": "ipython",
    "version": 3
   },
   "file_extension": ".py",
   "mimetype": "text/x-python",
   "name": "python",
   "nbconvert_exporter": "python",
   "pygments_lexer": "ipython3",
   "version": "3.11.4"
  }
 },
 "nbformat": 4,
 "nbformat_minor": 5
}
